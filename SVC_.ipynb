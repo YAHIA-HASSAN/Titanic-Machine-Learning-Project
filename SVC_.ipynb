{
 "cells": [
  {
   "cell_type": "markdown",
   "metadata": {},
   "source": [
    "# SVC"
   ]
  },
  {
   "cell_type": "code",
   "execution_count": 2,
   "metadata": {
    "vscode": {
     "languageId": "plaintext"
    },
    "ExecuteTime": {
     "end_time": "2023-12-25T10:42:16.768927100Z",
     "start_time": "2023-12-25T10:42:11.214130400Z"
    }
   },
   "outputs": [
    {
     "name": "stderr",
     "output_type": "stream",
     "text": [
      "C:\\Users\\yahia\\AppData\\Local\\Programs\\Python\\Python39\\lib\\site-packages\\sklearn\\utils\\validation.py:1183: DataConversionWarning: A column-vector y was passed when a 1d array was expected. Please change the shape of y to (n_samples, ), for example using ravel().\n",
      "  y = column_or_1d(y, warn=True)\n"
     ]
    },
    {
     "name": "stdout",
     "output_type": "stream",
     "text": [
      "Accuracy: 77.95%\n",
      "Classification Report:\n",
      "              precision    recall  f1-score   support\n",
      "\n",
      "           0       0.79      0.85      0.82       424\n",
      "           1       0.75      0.68      0.71       288\n",
      "\n",
      "    accuracy                           0.78       712\n",
      "   macro avg       0.77      0.76      0.77       712\n",
      "weighted avg       0.78      0.78      0.78       712\n"
     ]
    }
   ],
   "source": [
    "import pandas as pd\n",
    "from sklearn.svm import SVC\n",
    "from sklearn.model_selection import train_test_split\n",
    "from sklearn.metrics import accuracy_score, classification_report\n",
    "import pickle\n",
    "\n",
    "#Load the dataset\n",
    "X_train = pd.read_csv('Preprocessed Data/X_train.csv').to_numpy()\n",
    "y_train = pd.read_csv('Preprocessed Data/y_train.csv').to_numpy()\n",
    "X_test  = pd.read_csv('Preprocessed Data/X_test.csv').to_numpy()\n",
    "y_test  = pd.read_csv('Preprocessed Data/y_test.csv').to_numpy()\n",
    "\n",
    "\n",
    "# Train the SVM model\n",
    "svm_classifier = SVC(kernel='linear')  # You can try different kernels like 'rbf' or 'poly'\n",
    "svm_classifier.fit(X_train, y_train)\n",
    "\n",
    "# Make predictions on the test set\n",
    "y_pred = svm_classifier.predict(X_test)\n",
    "\n",
    "# Evaluate the model\n",
    "accuracy = accuracy_score(y_test, y_pred)\n",
    "print(f'Accuracy: {accuracy * 100:.2f}%')\n",
    "\n",
    "print('Classification Report:')\n",
    "print(classification_report(y_test, y_pred))\n"
   ]
  },
  {
   "cell_type": "code",
   "execution_count": 4,
   "outputs": [],
   "source": [
    "pickle.dump(svm_classifier, open(r\"SVM_model.pkl\",'wb'))"
   ],
   "metadata": {
    "collapsed": false,
    "ExecuteTime": {
     "end_time": "2023-12-25T10:42:27.428660900Z",
     "start_time": "2023-12-25T10:42:27.397381200Z"
    }
   }
  },
  {
   "cell_type": "code",
   "execution_count": null,
   "outputs": [],
   "source": [],
   "metadata": {
    "collapsed": false
   }
  }
 ],
 "metadata": {
  "language_info": {
   "name": "python"
  },
  "kernelspec": {
   "name": "python3",
   "language": "python",
   "display_name": "Python 3 (ipykernel)"
  }
 },
 "nbformat": 4,
 "nbformat_minor": 2
}
