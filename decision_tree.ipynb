{
 "cells": [
  {
   "cell_type": "markdown",
   "source": [
    "## Import the necessary libraries"
   ],
   "metadata": {
    "collapsed": false
   },
   "id": "88057b02c419f0f0"
  },
  {
   "cell_type": "code",
   "execution_count": 2,
   "outputs": [],
   "source": [
    "import pandas as pd\n",
    "from sklearn.tree import DecisionTreeClassifier\n",
    "from sklearn import metrics\n",
    "import pickle"
   ],
   "metadata": {
    "collapsed": false,
    "ExecuteTime": {
     "end_time": "2023-12-25T07:51:11.202337600Z",
     "start_time": "2023-12-25T07:51:09.530026800Z"
    }
   },
   "id": "initial_id"
  },
  {
   "cell_type": "markdown",
   "source": [
    "# Load the dataset"
   ],
   "metadata": {
    "collapsed": false
   },
   "id": "9f2e87a498471d31"
  },
  {
   "cell_type": "code",
   "execution_count": 3,
   "outputs": [],
   "source": [
    "X_train = pd.read_csv('Preprocessed Data/X_train.csv').to_numpy()\n",
    "y_train = pd.read_csv('Preprocessed Data/y_train.csv').to_numpy()\n",
    "X_test  = pd.read_csv('Preprocessed Data/X_test.csv').to_numpy()\n",
    "y_test  = pd.read_csv('Preprocessed Data/y_test.csv').to_numpy()\n"
   ],
   "metadata": {
    "collapsed": false,
    "ExecuteTime": {
     "end_time": "2023-12-25T07:51:11.233586400Z",
     "start_time": "2023-12-25T07:51:11.202337600Z"
    }
   },
   "id": "b37cf5ac5ab62d4b"
  },
  {
   "cell_type": "markdown",
   "source": [
    "## Decision Tree Model"
   ],
   "metadata": {
    "collapsed": false
   },
   "id": "212b42a34c135598"
  },
  {
   "cell_type": "code",
   "execution_count": 4,
   "outputs": [],
   "source": [
    "# model creation\n",
    "model = DecisionTreeClassifier()\n",
    "\n",
    "# train the model\n",
    "model.fit(X_train,y_train)\n",
    "\n",
    "# prediction\n",
    "y_pred = model.predict(X_test)"
   ],
   "metadata": {
    "collapsed": false,
    "ExecuteTime": {
     "end_time": "2023-12-25T07:51:11.256868900Z",
     "start_time": "2023-12-25T07:51:11.241195Z"
    }
   },
   "id": "ae0a8607ffc53a8"
  },
  {
   "cell_type": "markdown",
   "source": [
    "## Evaluate the model"
   ],
   "metadata": {
    "collapsed": false
   },
   "id": "bbf614eca5ff3ea7"
  },
  {
   "cell_type": "code",
   "execution_count": 5,
   "outputs": [
    {
     "name": "stdout",
     "output_type": "stream",
     "text": [
      "Accuracy: 98.59550561797754\n",
      "Precision: 100.0\n",
      "Recall: 96.52777777777779\n"
     ]
    }
   ],
   "source": [
    "accuracy = metrics.accuracy_score(y_test, y_pred)\n",
    "precision = metrics.precision_score(y_test, y_pred)\n",
    "recall = metrics.recall_score(y_test, y_pred)\n",
    "\n",
    "print(\"Accuracy:\", accuracy*100)\n",
    "print(\"Precision:\", precision*100)\n",
    "print(\"Recall:\", recall*100)"
   ],
   "metadata": {
    "collapsed": false,
    "ExecuteTime": {
     "end_time": "2023-12-25T07:51:11.288104500Z",
     "start_time": "2023-12-25T07:51:11.256868900Z"
    }
   },
   "id": "ed17ca4d22889e34"
  },
  {
   "cell_type": "code",
   "execution_count": 11,
   "outputs": [],
   "source": [
    "pickle.dump(model,open(r\"decision_tree_model.pkl\",'wb'))"
   ],
   "metadata": {
    "collapsed": false,
    "ExecuteTime": {
     "end_time": "2023-12-25T07:55:47.455341200Z",
     "start_time": "2023-12-25T07:55:47.424067500Z"
    }
   },
   "id": "170aa1eaaae75c7b"
  },
  {
   "cell_type": "code",
   "execution_count": null,
   "outputs": [],
   "source": [],
   "metadata": {
    "collapsed": false
   },
   "id": "d561b688db796b0c"
  }
 ],
 "metadata": {
  "kernelspec": {
   "display_name": "Python 3",
   "language": "python",
   "name": "python3"
  },
  "language_info": {
   "codemirror_mode": {
    "name": "ipython",
    "version": 2
   },
   "file_extension": ".py",
   "mimetype": "text/x-python",
   "name": "python",
   "nbconvert_exporter": "python",
   "pygments_lexer": "ipython2",
   "version": "2.7.6"
  }
 },
 "nbformat": 4,
 "nbformat_minor": 5
}
