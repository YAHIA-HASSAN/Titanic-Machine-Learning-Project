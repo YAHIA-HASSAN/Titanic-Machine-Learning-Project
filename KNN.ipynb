{
 "cells": [
  {
   "cell_type": "markdown",
   "metadata": {},
   "source": [
    "# KNN"
   ]
  },
  {
   "cell_type": "code",
   "execution_count": 12,
   "metadata": {
    "vscode": {
     "languageId": "plaintext"
    },
    "ExecuteTime": {
     "end_time": "2023-12-25T10:44:42.298505900Z",
     "start_time": "2023-12-25T10:44:42.220408800Z"
    }
   },
   "outputs": [
    {
     "name": "stdout",
     "output_type": "stream",
     "text": [
      "Accuracy: 83.15%\n",
      "Classification Report:\n",
      "              precision    recall  f1-score   support\n",
      "\n",
      "           0       0.84      0.89      0.86       424\n",
      "           1       0.82      0.75      0.78       288\n",
      "\n",
      "    accuracy                           0.83       712\n",
      "   macro avg       0.83      0.82      0.82       712\n",
      "weighted avg       0.83      0.83      0.83       712\n"
     ]
    },
    {
     "name": "stderr",
     "output_type": "stream",
     "text": [
      "C:\\Users\\yahia\\AppData\\Local\\Programs\\Python\\Python39\\lib\\site-packages\\sklearn\\neighbors\\_classification.py:233: DataConversionWarning: A column-vector y was passed when a 1d array was expected. Please change the shape of y to (n_samples,), for example using ravel().\n",
      "  return self._fit(X, y)\n"
     ]
    }
   ],
   "source": [
    "import pandas as pd\n",
    "from sklearn.neighbors import KNeighborsClassifier\n",
    "from sklearn.metrics import accuracy_score, classification_report\n",
    "import pickle\n",
    "\n",
    "# Load the dataset\n",
    "X_train = pd.read_csv('Preprocessed Data/X_train.csv').to_numpy()\n",
    "y_train = pd.read_csv('Preprocessed Data/y_train.csv').to_numpy()\n",
    "X_test  = pd.read_csv('Preprocessed Data/X_test.csv').to_numpy()\n",
    "y_test  = pd.read_csv('Preprocessed Data/y_test.csv').to_numpy()\n",
    "\n",
    "\n",
    "# Choose the number of neighbors (k)\n",
    "k = 3\n",
    "\n",
    "# Train the KNN model\n",
    "knn_classifier = KNeighborsClassifier(n_neighbors=k)\n",
    "knn_classifier.fit(X_train, y_train)\n",
    "\n",
    "# Make predictions on the test set\n",
    "y_pred = knn_classifier.predict(X_test)\n",
    "\n",
    "# Evaluate the model\n",
    "accuracy = accuracy_score(y_test, y_pred)\n",
    "print(f'Accuracy: {accuracy * 100:.2f}%')\n",
    "\n",
    "print('Classification Report:')\n",
    "print(classification_report(y_test, y_pred))"
   ]
  },
  {
   "cell_type": "code",
   "execution_count": 13,
   "outputs": [],
   "source": [
    "pickle.dump(knn_classifier, open(r\"KNN_model.pkl\",'wb'))"
   ],
   "metadata": {
    "collapsed": false,
    "ExecuteTime": {
     "end_time": "2023-12-25T10:44:42.352076700Z",
     "start_time": "2023-12-25T10:44:42.305011500Z"
    }
   }
  },
  {
   "cell_type": "code",
   "execution_count": 13,
   "outputs": [],
   "source": [],
   "metadata": {
    "collapsed": false,
    "ExecuteTime": {
     "end_time": "2023-12-25T10:44:42.352076700Z",
     "start_time": "2023-12-25T10:44:42.320915400Z"
    }
   }
  }
 ],
 "metadata": {
  "language_info": {
   "name": "python"
  },
  "kernelspec": {
   "name": "python3",
   "language": "python",
   "display_name": "Python 3 (ipykernel)"
  }
 },
 "nbformat": 4,
 "nbformat_minor": 2
}
